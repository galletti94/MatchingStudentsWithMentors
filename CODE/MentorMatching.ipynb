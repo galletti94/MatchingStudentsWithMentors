{
 "cells": [
  {
   "cell_type": "code",
   "execution_count": null,
   "metadata": {
    "collapsed": true
   },
   "outputs": [],
   "source": [
    "import numpy as np\n",
    "import pandas as pd\n",
    "import regex as re\n",
    "import time\n",
    "\n",
    "coaches = pd.read_csv(\"../DATA/coaches.csv\").fillna('')\n",
    "students = pd.read_csv(\"../DATA/students.csv\").fillna('')\n",
    "studentProjectNames = pd.read_csv('../DATA/studentProjectNames.csv', names = ['student', 'project'])"
   ]
  },
  {
   "cell_type": "code",
   "execution_count": null,
   "metadata": {
    "collapsed": true
   },
   "outputs": [],
   "source": [
    "def JaccardSim(listA, listB):\n",
    "    if len(listA) == 0 or len(listB) == 0:\n",
    "        return 0.0\n",
    "    return len(set(listA).intersection(listB)) / len(set(listA).union(listB))"
   ]
  },
  {
   "cell_type": "code",
   "execution_count": null,
   "metadata": {
    "collapsed": true
   },
   "outputs": [],
   "source": [
    "def StudentSimilarityMentor(allstudents, allcoaches, t, tupleBinary):\n",
    "    start = time.time()\n",
    "    \n",
    "    similarities = []\n",
    "    for i in range(len(allstudents)):\n",
    "        similarity = []\n",
    "        studentLanguages = []\n",
    "        for k in range(3, 8):\n",
    "            studentLanguages += [x for x in allstudents.iloc[i, k].split(';') if x != '']\n",
    "        \n",
    "        s1 = allstudents.iloc[i, 8].split(';')\n",
    "        s2 = allstudents.iloc[i, 9].split(';')\n",
    "        s3 = []\n",
    "        for k in range(len(s2)):\n",
    "            s3 += s2[k].lower().split()\n",
    "        studentSkills = [x for x in s1 + s3 if x != '']\n",
    "\n",
    "        for j in range(len(allcoaches)):   \n",
    "            coachLanguages = [x for x in list(allcoaches.iloc[j,24:61]) if x != '']\n",
    "            coachSkills = [x.lower() for x in list(allcoaches.iloc[j, 61:67]) if x != ''] + allcoaches.iloc[j, 23].lower().split()\n",
    "\n",
    "            jaccardLang = JaccardSim(studentLanguages, coachLanguages)\n",
    "            jaccardSkill = JaccardSim(studentSkills, coachSkills)\n",
    "\n",
    "            similarity.append([jaccardSkill, jaccardLang, j])\n",
    "            \n",
    "        if t == 'sl':\n",
    "            similarities.append(list(reversed(sorted([[x[0] + x[1], x[2]] for x in similarity], key = lambda x : x[0]))))\n",
    "        elif t == 's':\n",
    "            similarities.append(list(reversed(sorted([[x[0], x[2]] for x in similarity], key = lambda x : x[0]))))\n",
    "        elif t == 'l':\n",
    "            similarities.append(list(reversed(sorted([[x[1], x[2]] for x in similarity], key = lambda x : x[0]))))\n",
    "        else:\n",
    "            raise ValueError('Wrong tuning parameter')\n",
    "\n",
    "    sims = []\n",
    "    for i in range(len(similarities)):\n",
    "        sims.append(list(map(lambda x : x[-1], similarities[i])))\n",
    "\n",
    "    topics = []\n",
    "    for i in range(len(similarities)):\n",
    "        topics.append(list(map(lambda x : allcoaches.iloc[x, 23], sims[i])))\n",
    "        \n",
    "    topics = pd.DataFrame(topics, index= list(map(lambda x : x.split()[0], allstudents.iloc[:,1]))).transpose()\n",
    "            \n",
    "    titles = []\n",
    "    for i in range(len(similarities)):\n",
    "        titles.append(list(map(lambda x : allcoaches.iloc[x, 3], sims[i])))\n",
    "\n",
    "    titles = pd.DataFrame(titles, index= list(map(lambda x : x.split()[0], allstudents.iloc[:,1]))).transpose()\n",
    "\n",
    "    if tupleBinary == 0:\n",
    "        names = []\n",
    "        for i in range(len(similarities)):\n",
    "            names.append(list(map(lambda x : allcoaches.iloc[x[-1], 1].split('@')[0], similarities[i])))\n",
    "            \n",
    "    elif tupleBinary == 1:\n",
    "        names = []\n",
    "        for i in range(len(similarities)):\n",
    "            names.append(list(map(lambda x : allcoaches.iloc[x[-1], 1].split('@')[0] + '#' +  str(int(x[0]* 10**3)), similarities[i])))\n",
    "        \n",
    "    else:\n",
    "        raise ValueError('Please Enter a tuple parameter of 1 or 0')\n",
    "\n",
    "    names = pd.DataFrame(names, index= list(map(lambda x : x.split()[0], allstudents.iloc[:,1]))).transpose()\n",
    "    end = time.time()\n",
    "    return names"
   ]
  },
  {
   "cell_type": "code",
   "execution_count": null,
   "metadata": {
    "collapsed": true
   },
   "outputs": [],
   "source": [
    "def MentorPreferences(allcoaches, allstudents):\n",
    "    preferences = []\n",
    "    for i in range(len(allcoaches)):\n",
    "        mentorProjectInterest = []\n",
    "        for j in range(13, 22):\n",
    "            mentorProjectInterest += re.findall(r'\"(.*?)\"', coaches.iloc[i, j])\n",
    "\n",
    "        mentorStudentInterest = []\n",
    "        for j in range(len(mentorProjectInterest)):\n",
    "            for k in range(len(studentProjectNames.iloc[:, 0])):\n",
    "                if len(set(mentorProjectInterest[j].split()).intersection(studentProjectNames.iloc[k, 1].split())) > 1:\n",
    "                    mentorStudentInterest.append(studentProjectNames.iloc[k, 0])\n",
    "\n",
    "        preferences.append(mentorStudentInterest)\n",
    "\n",
    "    names = pd.DataFrame(preferences, index= list(map(lambda x : x.split('@')[0], allcoaches.iloc[:,1]))).transpose()\n",
    "    \n",
    "    return names"
   ]
  },
  {
   "cell_type": "code",
   "execution_count": null,
   "metadata": {
    "collapsed": true
   },
   "outputs": [],
   "source": [
    "def FeasibleMatching(studentPreferences, mentorPreferences):\n",
    "    start = time.time()\n",
    "    sc = list(studentPreferences.columns)\n",
    "\n",
    "    for i in range(len(sc)):\n",
    "        for j in range(len(list(studentPreferences.iloc[:,i]))):\n",
    "            if sc[i] not in list(mentorPreferences.loc[:, studentPreferences.iloc[j, i]]):\n",
    "                studentPreferences.iloc[j, i] = ''\n",
    "\n",
    "    end = time.time()\n",
    "    \n",
    "    return studentPreferences"
   ]
  },
  {
   "cell_type": "code",
   "execution_count": null,
   "metadata": {
    "collapsed": true
   },
   "outputs": [],
   "source": [
    "def match1(studentpreferences, allcoaches, t):\n",
    "\n",
    "    names = [x.split('@')[0] for x in list(allcoaches.iloc[:, 1])]\n",
    "    d = dict((x, 0) for x in names)\n",
    "    matching = []\n",
    "    \n",
    "    for i in range(len(studentpreferences.columns)):\n",
    "        \n",
    "        student = studentpreferences.columns[i]\n",
    "        \n",
    "        for j in range(len(studentpreferences.index)):\n",
    "            \n",
    "            others = list(studentpreferences.iloc[j, :i]) + list(studentpreferences.iloc[i+1:, j])\n",
    "            mentor = studentpreferences.iloc[j, i]\n",
    "            \n",
    "            if mentor in others:\n",
    "                if d[mentor] < t:\n",
    "                    d[mentor] += 1\n",
    "                    matching.append([mentor, student])\n",
    "                    break\n",
    "            else:\n",
    "                 if d[mentor] < t:\n",
    "                    d[mentor] += 1\n",
    "                    matching.append([mentor, student])\n",
    "                    break\n",
    "\n",
    "    matching = pd.DataFrame(matching, columns=['mentor', 'student'])\n",
    "    return matching"
   ]
  },
  {
   "cell_type": "code",
   "execution_count": null,
   "metadata": {
    "collapsed": true
   },
   "outputs": [],
   "source": [
    "def match2(studentpreferences, allcoaches, t, MenteeNumConstraint):\n",
    "    \n",
    "    def getmaxtuple(lstoflsts):\n",
    "        res = lstoflsts[0]\n",
    "        for i in range(1, len(lstoflsts)):\n",
    "            if lstoflsts[i][1] > res[1]:\n",
    "                res = lstoflsts[i]\n",
    "        return res\n",
    "    \n",
    "    names = [x.split('@')[0] for x in list(allcoaches.iloc[:, 1])]\n",
    "    if MenteeNumConstraint == 0:\n",
    "        d = dict((x, 0) for x in names)\n",
    "    elif MenteeNumConstraint == 1:\n",
    "        yesNo = list(map(lambda x : t if x == 'Yes' else 1, list(allcoaches.iloc[:,4])))\n",
    "        d = dict()\n",
    "        for i in range(len(yesNo)):\n",
    "            if yesNo[i] == 1:\n",
    "                d[names[i]] = 0\n",
    "            else:\n",
    "                d[names[i]] = t - 1\n",
    "    else:\n",
    "        raise ValueError('last parameter must be 0 or 1')\n",
    "    \n",
    "    matching = []\n",
    "    paired = []\n",
    "    \n",
    "    for j in range(len(studentpreferences.index)):\n",
    "\n",
    "        mentors = [[x.split('#')[0], int(x.split('#')[1])] for x in list(studentpreferences.iloc[j, :])]\n",
    "        \n",
    "        while getmaxtuple(mentors)[1] > 0:\n",
    "\n",
    "            maxtuple = getmaxtuple(mentors)\n",
    "            mentor = maxtuple[0]\n",
    "            ind = mentors.index(maxtuple)\n",
    "            student = studentpreferences.columns[ind]\n",
    "            \n",
    "            if d[mentor] < t and not(student in paired):\n",
    "                d[mentor] += 1\n",
    "                matching.append([mentor, student])\n",
    "                paired.append(student)\n",
    "            \n",
    "            mentors[ind][1] = 0\n",
    "\n",
    "    matching = pd.DataFrame(matching, columns=['mentor', 'mentee'])\n",
    "    return matching"
   ]
  }
 ],
 "metadata": {
  "kernelspec": {
   "display_name": "Python 3",
   "language": "python",
   "name": "python3"
  },
  "language_info": {
   "codemirror_mode": {
    "name": "ipython",
    "version": 3
   },
   "file_extension": ".py",
   "mimetype": "text/x-python",
   "name": "python",
   "nbconvert_exporter": "python",
   "pygments_lexer": "ipython3",
   "version": "3.6.1"
  }
 },
 "nbformat": 4,
 "nbformat_minor": 2
}
