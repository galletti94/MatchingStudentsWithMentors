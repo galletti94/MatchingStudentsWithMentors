{
 "cells": [
  {
   "cell_type": "code",
   "execution_count": null,
   "metadata": {
    "collapsed": true
   },
   "outputs": [],
   "source": [
    "import numpy as np\n",
    "import pandas as pd\n",
    "import regex as re\n",
    "import math\n",
    "import time\n",
    "\n",
    "mentees = pd.read_csv('../DATA/Mentee-Application-Form.csv')\n",
    "mentors = pd.read_csv('../DATA/Mentor-Application-Form.csv')"
   ]
  },
  {
   "cell_type": "code",
   "execution_count": null,
   "metadata": {
    "collapsed": true
   },
   "outputs": [],
   "source": [
    "def JaccardSim(listA, listB):\n",
    "    if len(listA) == 0 or len(listB) == 0:\n",
    "        return 0.0\n",
    "    return len(set(listA).intersection(listB)) / len(set(listA).union(listB))"
   ]
  },
  {
   "cell_type": "code",
   "execution_count": null,
   "metadata": {
    "collapsed": true
   },
   "outputs": [],
   "source": [
    "def MenteeSimilarityMentor(allmentees, allmentors, t, tupleBinary):\n",
    "    start = time.time()\n",
    "    \n",
    "    similarities = []\n",
    "    for i in range(len(allmentees)):\n",
    "\n",
    "        similarity = []\n",
    "        menteeInterests = str(allmentees.iloc[i, 3]).split(';')\n",
    "        menteeClubs = str(allmentees.iloc[i, 4]).split(';')\n",
    "\n",
    "        for j in range(len(allmentors)):\n",
    "\n",
    "            weight = allmentors.iloc[j, 5]\n",
    "            if math.isnan(weight):\n",
    "                weight = 1\n",
    "            \n",
    "  \n",
    "            mentorInterests = str(allmentors.iloc[j, 8]).split(';')\n",
    "            mentorClubs = str(allmentors.iloc[j, 9]).split(';')\n",
    "\n",
    "            jaccardInterest = JaccardSim(menteeInterests, mentorInterests)\n",
    "            jaccardClubs = JaccardSim(menteeClubs, mentorClubs)\n",
    "\n",
    "            similarity.append([weight * jaccardInterest, weight * jaccardClubs, j])\n",
    "            \n",
    "        if t == 'ic':\n",
    "            similarities.append(list(reversed(sorted([[x[0] + x[1], x[2]] for x in similarity], key = lambda x : x[0]))))\n",
    "        elif t == 'i':\n",
    "            similarities.append(list(reversed(sorted([[x[0], x[2]] for x in similarity], key = lambda x : x[0]))))\n",
    "        elif t == 'c':\n",
    "            similarities.append(list(reversed(sorted([[x[1], x[2]] for x in similarity], key = lambda x : x[0]))))\n",
    "        else:\n",
    "            raise ValueError('Wrong tuning parameter')\n",
    "\n",
    "    sims = []\n",
    "    for i in range(len(similarities)):\n",
    "        sims.append(list(map(lambda x : x[-1], similarities[i])))\n",
    "\n",
    "    if tupleBinary == 0:\n",
    "        names = []\n",
    "        for i in range(len(similarities)):\n",
    "            names.append(list(map(lambda x : allmentors.iloc[x[-1], 1], similarities[i])))\n",
    "            \n",
    "    elif tupleBinary == 1:\n",
    "        names = []\n",
    "        for i in range(len(similarities)):\n",
    "            names.append(list(map(lambda x : allmentors.iloc[x[-1], 1] + '#' +  str(int(x[0])), similarities[i])))\n",
    "        \n",
    "    else:\n",
    "        raise ValueError('Please Enter a tuple parameter of 1 or 0')\n",
    "\n",
    "    names = pd.DataFrame(names, index= list(allmentees.iloc[:,1])).transpose()\n",
    "    \n",
    "    end = time.time()\n",
    "    \n",
    "    return names"
   ]
  },
  {
   "cell_type": "code",
   "execution_count": null,
   "metadata": {
    "collapsed": true
   },
   "outputs": [],
   "source": [
    "def match2(studentpreferences, allcoaches, t, MenteeNumConstraint):\n",
    "    \n",
    "    def getmaxtuple(lstoflsts):\n",
    "        res = lstoflsts[0]\n",
    "        for i in range(1, len(lstoflsts)):\n",
    "            if lstoflsts[i][1] > res[1]:\n",
    "                res = lstoflsts[i]\n",
    "        return res\n",
    "    \n",
    "    names = [x.split('@')[0] for x in list(allcoaches.iloc[:, 1])]\n",
    "    if MenteeNumConstraint == 0:\n",
    "        d = dict((x, 0) for x in names)\n",
    "    elif MenteeNumConstraint == 1:\n",
    "        yesNo = list(map(lambda x : t if x == 'Yes' else 1, list(allcoaches.iloc[:,4])))\n",
    "        d = dict()\n",
    "        for i in range(len(yesNo)):\n",
    "            if yesNo[i] == 1:\n",
    "                d[names[i]] = 0\n",
    "            else:\n",
    "                d[names[i]] = t - 1\n",
    "    else:\n",
    "        raise ValueError('last parameter must be 0 or 1')\n",
    "    \n",
    "    matching = []\n",
    "    paired = []\n",
    "    \n",
    "    for j in range(len(studentpreferences.index)):\n",
    "\n",
    "        mentors = [[x.split('#')[0], int(x.split('#')[1])] for x in list(studentpreferences.iloc[j, :])]\n",
    "        \n",
    "        while getmaxtuple(mentors)[1] > 0:\n",
    "\n",
    "            maxtuple = getmaxtuple(mentors)\n",
    "            mentor = maxtuple[0]\n",
    "            ind = mentors.index(maxtuple)\n",
    "            student = studentpreferences.columns[ind]\n",
    "            \n",
    "            if d[mentor] < t and not(student in paired):\n",
    "                d[mentor] += 1\n",
    "                matching.append([mentor, student])\n",
    "                paired.append(student)\n",
    "            \n",
    "            mentors[ind][1] = 0\n",
    "\n",
    "    matching = pd.DataFrame(matching, columns=['mentor', 'mentee'])\n",
    "    return matching"
   ]
  }
 ],
 "metadata": {
  "kernelspec": {
   "display_name": "Python 3",
   "language": "python",
   "name": "python3"
  },
  "language_info": {
   "codemirror_mode": {
    "name": "ipython",
    "version": 3
   },
   "file_extension": ".py",
   "mimetype": "text/x-python",
   "name": "python",
   "nbconvert_exporter": "python",
   "pygments_lexer": "ipython3",
   "version": "3.6.1"
  }
 },
 "nbformat": 4,
 "nbformat_minor": 2
}
